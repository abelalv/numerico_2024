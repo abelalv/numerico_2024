{
 "cells": [
  {
   "cell_type": "markdown",
   "metadata": {},
   "source": [
    "# Regla Falsa\n",
    "\n",
    "\n",
    "Ejercicios de regla falsa\n",
    "\n",
    "## Ejercicio 1\n",
    "Escriba cuales son hipótesis que debe tener el método de la regla falsa y del método del bisección. Además, las ventajas y desventajas de la regla falsa en comparación con el método de bisección.\n",
    "\n",
    "## Ejercicio 2\n",
    "\n",
    "Escriba un programa que implemente el método la bisección para encontrar la raíz de una función (tome como ejemplo $f(x)=x^2-4$ en el intervalo $[1,3]$). El programa debe recibir como entrada la función, los límites del intervalo inicial, el error deseado y el número máximo de iteraciones. El programa debe devolver la raíz encontrada o un mensaje de error, tiempo de computo y el número de iteraciones realizadas.\n",
    "\n",
    "## Ejercicio 3\n",
    "\n",
    "Escriba un programa que implemente el método de la regla falsa para encontrar la raíz de una función (tome como ejemplo $f(x)=x^2-4$ en el intervalo $[1,3]$). El programa debe recibir como entrada la función, los límites del intervalo inicial, el error deseado y el número máximo de iteraciones. El programa debe devolver la raíz encontrada o un mensaje de error, tiempo de computo y el número de iteraciones realizadas.\n",
    "\n",
    "## Ejercicio 4\n",
    "\n",
    "compare los resultados con del ejercicio 2 y 3 con el valor real de la raíz de la función $f(x)=x^2-4$ en el intervalo $[1,3]$, numero de iteraciones, tiempo de computo para un error de $10^{-6}$\n",
    "\n",
    "## Ejercicio 5\n",
    "Use el método de la bisección y de la regla falsa para encontrar la raíz de la función $f(x)=e^x-2$ en el intervalo $[0,2]$. Compare los resultados con el valor real de la raíz de la función, numero de iteraciones, tiempo de computo para un error de $10^{-6}$\n",
    "\n",
    "\n",
    "\n"
   ]
  }
 ],
 "metadata": {
  "language_info": {
   "name": "python"
  }
 },
 "nbformat": 4,
 "nbformat_minor": 2
}
