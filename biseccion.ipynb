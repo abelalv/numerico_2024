{
 "cells": [
  {
   "cell_type": "raw",
   "metadata": {},
   "source": [
    "---\n",
    "title: \"Método de la bisección\"\n",
    "format: html\n",
    "---"
   ]
  },
  {
   "cell_type": "markdown",
   "metadata": {},
   "source": [
    "# Método de la bisección para encontrar raíces de una ecuación\n",
    "\n",
    "Sea una función $f(x)$ continua en un intervalo $[a,b]$ tal que $f(a)$ y $f(b)$ tienen signos opuestos. Entonces existe al menos un número c en (a,b) tal que $f(c)=0$.\n",
    "\n",
    "![Método](figures/bice.png)\n",
    "\n",
    "El método de la bisección consiste en dividir el intervalo por la mitad y seleccionar el subintervalo que tiene signos opuestos en los extremos. Este proceso se repite hasta que el intervalo sea lo suficientemente pequeño. Note que este es un algoritmo iterativo, por ende, necesitamos algunos criterios de parada. **¿Cuáles criterios de parada podemos usar?**\n",
    "\n",
    "#  Ejericio 1:\n",
    "\n",
    "+ Grafique la función $f(x)=x^3-2x^2+3x-1$ en el intervalo $[0,1]$.\n",
    "\n",
    "+ ¿Qué criterios de parada podemos usar para este método?\n",
    "\n",
    "+ Note que esta función tiene una raíz en el intervalo $[0,1]$. Intente escribir un algoritmo para implementar el método de la bisección para encontrar la raíz de la función.\n",
    "\n",
    "+ Compare ese algoritmo con el siguiente:\n",
    "\n",
    "**Entrada** Extremos $a,b$ del intervalo, tolerancia $TOL$, número máximo de iteraciones $N_0$.\n",
    "\n",
    "**Salida** Aproximación $p$ de la raíz de $f(x)$ tal que satisfaga el criterio de parada o un mensaje de error.\n",
    "\n",
    "**Paso 1.** Tome $i=1$;\n",
    "        $$FA=f(a);$$\n",
    "\n",
    "**Paso 2.** Mientras $i\\leq N_0$ haga paso 3-6\n",
    "\n",
    "**Paso 3.** $p=a+(b-a)/2$; (cálcule $p_i$)\n",
    "                $$FP=f(p);$$\n",
    "\n",
    "**Paso 4.** Si $f(p)=0$ o $(b-a)/2<TOL$ entonces\n",
    "\n",
    "Salida ($p$); (la salida es $p_i$) \n",
    "\n",
    "**Paso 5.** $i=i+1$;\n",
    "\n",
    "**Paso 6.** Si $FA\\cdot FP>0$ entonces\n",
    "$$a=p;\\ \\ FA=FP$$\n",
    "**Si no**\n",
    "$$b=p;$$\n",
    "**Paso 7.** Salida (Fracaso, el número máximo de iteraciones fue excedido)\n",
    "\n",
    "\n",
    "# Ejercicio 2:\n",
    "Implemente el método de la bisección para encontrar la raíz de la función $f(x)=x^3-2x^2+3x-1$ en el intervalo $[0,1]$ y genere una tabla como la siguiente\n",
    "\n",
    "| Iteración | $a_n$ | $b_n$ | $p_n$ | $|f(p_n)|$ | $Error_{absoluto}$ |$Error_{relativo}$|\n",
    "|-----------|-------|-------|-------|----------|--------------------|------------------|\n",
    "|           |       |       |       |          |                    |                  |\n",
    "|           |       |       |       |          |                    |                  |\n",
    "\n",
    "\n",
    "Ahora gráfique el numero de iteraciones vs cada uno de los siguientes parámetros $|f(p_n)|$,  $Error_{absoluto}$ y $Error_{relativo}$.\n",
    "\n",
    "\n",
    "\n",
    "\n"
   ]
  },
  {
   "cell_type": "code",
   "execution_count": 1,
   "metadata": {},
   "outputs": [],
   "source": [
    "## Método de la bisección\n",
    "\n",
    "import numpy as np\n",
    "import matplotlib.pyplot as plt\n",
    "\n",
    "def f(x):\n",
    "    return x**3 + 4*x**2 - 10\n",
    "\n",
    "def biseccion(a, b, tol, max_iter):\n",
    "    if f(a)*f(b) < 0:\n",
    "        i = 0\n",
    "        while i < max_iter:\n",
    "            c = (a + b)/2\n",
    "            if f(c) == 0 or (b - a)/2 < tol:\n",
    "                return c\n",
    "            i += 1\n",
    "            if f(a)*f(c) > 0:\n",
    "                a = c\n",
    "            else:\n",
    "                b = c\n",
    "        return c\n",
    "    else:\n",
    "        print(\"No hay raíz en el intervalo\")"
   ]
  },
  {
   "cell_type": "markdown",
   "metadata": {},
   "source": [
    "# Ejercicio 3\n",
    "Lea atentamente el siguietne teorema:\n",
    "\n",
    "# Teorema\n",
    "\n",
    "Suponga que $f$ es continua en $[a,b]$ y que $f(a)$ y $f(b)$ tienen signos opuestos. El método de bisección produce una secuencia de intervalos $\\{p_n\\}$ que convergen a un número $p$ tal que $f(p)=0$, tal que\n",
    "$$|p_n-p|\\leq \\frac{b-a}{2^n}$$\n",
    "\n",
    "¿Como podemos verifcar este teorema computacionalmente? Programe un ejemplo.\n",
    "# Ejercicio 4\n",
    "\n",
    "Use el método de la bisección  para encontrar la \n",
    "raíz de la siguiente función $f(x)=e^{(-100x)}-1$ con una tolerancia de $10^{-6}$ en el intervalo $[-0.1,0.3]$, use como criterio de parada\n",
    "+ error absoluto \n",
    "+ error realativo\n",
    "+ $|f(c)|$\n",
    "\n",
    "Para cada caso haga un progrma diferente y analice el numéro de iteraciones y el tiempo de computo."
   ]
  },
  {
   "cell_type": "markdown",
   "metadata": {},
   "source": [
    "# Ejercicio 5\n",
    "\n",
    "Un filtro de paso de banda paso señales con una frecuencia que son dentro de cierto rango.\n",
    "En este filtro el radio de la magnitud del voltaje es dado por \n",
    "\\begin{equation}\n",
    " RV=\\left|\\frac{V_0}{V_i}\\right|=\\frac{\\omega RC}{\\sqrt{(1-\\omega^ 2LC)^ 2+(\\omega RC)^ 2}},\n",
    "\\end{equation}\n",
    "donde $\\omega$ es la frecuencia de la señal de entrada. Dado $R=1000 \\Omega$ \n",
    "$L=11mH$ y $C=8\\mu F$ determine el rango de frecuencia que corresponde para $RV\\geq 0.87$"
   ]
  }
 ],
 "metadata": {
  "kernelspec": {
   "display_name": "Python 3",
   "language": "python",
   "name": "python3"
  },
  "language_info": {
   "codemirror_mode": {
    "name": "ipython",
    "version": 3
   },
   "file_extension": ".py",
   "mimetype": "text/x-python",
   "name": "python",
   "nbconvert_exporter": "python",
   "pygments_lexer": "ipython3",
   "version": "3.11.0"
  },
  "orig_nbformat": 4
 },
 "nbformat": 4,
 "nbformat_minor": 2
}
