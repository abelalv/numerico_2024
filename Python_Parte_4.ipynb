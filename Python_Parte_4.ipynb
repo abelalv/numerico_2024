{
  "cells": [
    {
      "cell_type": "markdown",
      "metadata": {
        "colab_type": "text",
        "id": "view-in-github"
      },
      "source": [
        "<a href=\"https://colab.research.google.com/github/isahdez423/IntroduccionPython/blob/main/Introduccion_a_Python_Parte_4.ipynb\" target=\"_parent\"><img src=\"https://colab.research.google.com/assets/colab-badge.svg\" alt=\"Open In Colab\"/></a>"
      ]
    },
    {
      "cell_type": "markdown",
      "metadata": {
        "id": "ic1C5WY7vpLj"
      },
      "source": [
        "# **Introducción a Python - Parte 4**"
      ]
    },
    {
      "cell_type": "markdown",
      "metadata": {
        "id": "rdZtOhpZOYQt"
      },
      "source": [
        "# **Libreria Numpy**\n",
        "---\n",
        "<img src = \"https://numpy.org/user-survey-2020-details/_static/numpylogo.svg\" alt = \"Numpy Logo\" width = \"50%\">  </img>\n"
      ]
    },
    {
      "cell_type": "markdown",
      "metadata": {
        "id": "qQpZATYoJnpR"
      },
      "source": [
        "Numpy es una librería de Python especializada en el cálculo numérico y el análisis de datos, especialmente cuando se tiene un gran volumen de datos.  Incluye funciones para operaciones de muchos tipos, matemáticas, de lógica, de ordenación, estadísticas, de entrada y salida para leer y escribir ficheros, etcétera. En el siguiente link puede encontrar mas información sobre esta librería: https://numpy.org/doc/stable/index.html \n",
        "\n",
        "Para poder utilizar **`Numpy`** primero hay que instalarlo ya que es modulo externo. Por ejemplo, si se esta trabajando `Python` en `conda`, se debe abrir la terminal (`Anaconda Prompt`) y escribir `conda install numpy`."
      ]
    },
    {
      "cell_type": "markdown",
      "metadata": {
        "id": "LfSYCYZq-ttP"
      },
      "source": [
        "Una vez instalado, la forma más común de importar esta librería en nuestro archivo de trabajo es utilizando el alias `np`"
      ]
    },
    {
      "cell_type": "code",
      "execution_count": null,
      "metadata": {
        "id": "aAGz617i-whr"
      },
      "outputs": [],
      "source": [
        "import numpy as np"
      ]
    },
    {
      "cell_type": "markdown",
      "metadata": {
        "id": "2qh_yUSsq7R2"
      },
      "source": [
        "La ventaja de **`Numpy`** frente a las listas predefinidas en Python es que el procesamiento de los arrays se realiza mucho más rápido que las listas, lo cual la hace ideal para el procesamiento de vectores y matrices de grandes dimensiones.\n",
        "\n",
        "**Ejemplo**"
      ]
    },
    {
      "cell_type": "code",
      "execution_count": null,
      "metadata": {
        "id": "pHkdLRwk9jzk"
      },
      "outputs": [],
      "source": []
    },
    {
      "cell_type": "code",
      "execution_count": null,
      "metadata": {
        "id": "0C4TzgTs-pcp"
      },
      "outputs": [],
      "source": []
    },
    {
      "cell_type": "markdown",
      "metadata": {
        "id": "ZhEOiaizZaxv"
      },
      "source": [
        "**`Numpy`** esta basado en el objeto **`ndarray`** el cual es multidimensional, lo cual significa que permite representar tanto valores esacalares como vectores, matrices y matrices multidimensionales.\n",
        "\n",
        "<img src = \"https://predictivehacks.com/wp-content/uploads/2020/08/numpy_arrays-768x429.png\" alt = \"Numpy Logo\" width = \"60%\">  </img>\n",
        "\n",
        "\n",
        "Referencia: https://predictivehacks.com/tips-about-numpy-arrays/\n",
        "\n"
      ]
    },
    {
      "cell_type": "markdown",
      "metadata": {
        "id": "abiIAI7Tbv5E"
      },
      "source": [
        "Se tienen diferentes maneras de crear un **`array`** por ejemplo, utilizandos funciones que ya se encuentran implementadas en **`Numpy`**"
      ]
    },
    {
      "cell_type": "code",
      "execution_count": null,
      "metadata": {
        "id": "7xeZINSLbvPB"
      },
      "outputs": [],
      "source": [
        "# Crear un vector de ceros"
      ]
    },
    {
      "cell_type": "code",
      "execution_count": null,
      "metadata": {
        "id": "cXNo2JUYb80J"
      },
      "outputs": [],
      "source": [
        "# Crear una matriz de ceros"
      ]
    },
    {
      "cell_type": "code",
      "execution_count": null,
      "metadata": {
        "id": "g2ZcFZslcb-Z"
      },
      "outputs": [],
      "source": [
        "# Crear un vector de unos"
      ]
    },
    {
      "cell_type": "code",
      "execution_count": null,
      "metadata": {
        "id": "BAALep7BceNl"
      },
      "outputs": [],
      "source": [
        "# Crear una matriz de unos"
      ]
    },
    {
      "cell_type": "code",
      "execution_count": null,
      "metadata": {
        "id": "h4-RzGo_fEY0"
      },
      "outputs": [],
      "source": [
        "# Crear vector y matriz vacia"
      ]
    },
    {
      "cell_type": "code",
      "execution_count": null,
      "metadata": {
        "id": "MWNyledMu0y1"
      },
      "outputs": [],
      "source": [
        "# Vector con valores aleatorios\n",
        "\n",
        "''' Esta funcion devuelve numeros enteros aleatorios desde [a,b) \n",
        "np.random.randint(a,b, size=None, dtype=int) en el parametro size se especifica \n",
        "la dimension del vector o matriz a crear'''"
      ]
    },
    {
      "cell_type": "code",
      "execution_count": null,
      "metadata": {
        "id": "BK8p3Q6OBaxB"
      },
      "outputs": [],
      "source": [
        "# Copiar un array"
      ]
    },
    {
      "cell_type": "markdown",
      "metadata": {
        "id": "LtYH6hzCnauj"
      },
      "source": [
        "**Crear matrices**"
      ]
    },
    {
      "cell_type": "code",
      "execution_count": null,
      "metadata": {
        "id": "fUNkcjpAl4Fj"
      },
      "outputs": [],
      "source": [
        "# Matriz diagonal\n",
        "m = np.array([[3,4,1],\n",
        "              [6,8,2],\n",
        "              [1,3,6]])"
      ]
    },
    {
      "cell_type": "code",
      "execution_count": null,
      "metadata": {
        "id": "Jeqcy4yA2fVI"
      },
      "outputs": [],
      "source": [
        "# Diagonal -1\n",
        "\n",
        "# Diagonal 1"
      ]
    },
    {
      "cell_type": "code",
      "execution_count": null,
      "metadata": {
        "id": "KaVvvs26fb8T"
      },
      "outputs": [],
      "source": [
        "# Matriz diagonal (diag)"
      ]
    },
    {
      "cell_type": "code",
      "execution_count": null,
      "metadata": {
        "id": "8R2NBKJcodVx"
      },
      "outputs": [],
      "source": [
        "# Matriz identidad"
      ]
    },
    {
      "cell_type": "code",
      "execution_count": null,
      "metadata": {
        "id": "DV_FEbqBof-y"
      },
      "outputs": [],
      "source": [
        "# Matriz de un mismo valor"
      ]
    },
    {
      "cell_type": "code",
      "execution_count": null,
      "metadata": {
        "colab": {
          "base_uri": "https://localhost:8080/",
          "height": 36
        },
        "id": "PLiAiTGZrUBs",
        "outputId": "3f5d2d3b-1d72-4dea-e10c-6267afd55e52"
      },
      "outputs": [
        {
          "data": {
            "application/vnd.google.colaboratory.intrinsic+json": {
              "type": "string"
            },
            "text/plain": [
              "' Esta funcion devuelve numeros enteros aleatorios desde [a,b) \\nnp.random.randint(a,b, size=None, dtype=int) en el parametro size se especifica \\nla dimension del vector o matriz a crear'"
            ]
          },
          "execution_count": 44,
          "metadata": {},
          "output_type": "execute_result"
        }
      ],
      "source": [
        "# Matriz de numeros aleatorios \n",
        "\n",
        "\n",
        "''' Esta funcion devuelve numeros enteros aleatorios desde [a,b) \n",
        "np.random.randint(a,b, size=None, dtype=int) en el parametro size se especifica \n",
        "la dimension del vector o matriz a crear'''\n",
        "\n"
      ]
    },
    {
      "cell_type": "markdown",
      "metadata": {
        "id": "jp_CM_2TfDg_"
      },
      "source": [
        "Para obtener información de las características del array creado, existen diferentes atributos y funciones:"
      ]
    },
    {
      "cell_type": "code",
      "execution_count": null,
      "metadata": {
        "id": "nMjEulDMhe8B"
      },
      "outputs": [],
      "source": [
        "array = np.array([[2,3,4],[2,6,4],[4,2,9]])\n",
        "\n",
        "# Dimensión\n",
        "\n",
        "# Dimensiones del array, lo devuelve como tupla\n",
        "\n",
        "# Numero total de elementos del array\n",
        "\n",
        "# Tipo de datos de los elementos del array a.\n"
      ]
    },
    {
      "cell_type": "markdown",
      "metadata": {
        "id": "ZdDlg787iJrp"
      },
      "source": [
        "### **Función arange y linspace**\n",
        "\n",
        "* **`np.arange(inicio, fin, salto):`**\n",
        " Crea y devuelve un array de una dimensión cuyos elementos son la secuencia desde **`inicio`** hasta **`fin`** tomando valores cada **`salto`**."
      ]
    },
    {
      "cell_type": "code",
      "execution_count": null,
      "metadata": {
        "id": "KQ2zq4z3xUyH"
      },
      "outputs": [],
      "source": [
        "# Función arange"
      ]
    },
    {
      "cell_type": "markdown",
      "metadata": {
        "id": "f_kvBta9z4JG"
      },
      "source": [
        "\n",
        "* **`np.linspace(inicio, fin, n):`** Crea y devuelve un array de una dimensión cuyos elementos son la secuencia de **`n`** valores equidistantes desde **`inicio`** hasta **`fin`**."
      ]
    },
    {
      "cell_type": "code",
      "execution_count": null,
      "metadata": {
        "id": "F288ZhX7xYwX"
      },
      "outputs": [],
      "source": [
        "# Función linspace"
      ]
    },
    {
      "cell_type": "markdown",
      "metadata": {
        "id": "A9JV0Rn3zh13"
      },
      "source": [
        "### **Acceder a los elementos de una matriz**\n",
        "\n",
        "*   **`l[a,b]`**: Retornan los elementos de la fila **`a`**  y la columna **`b`**.\n",
        "* **`:`** Selecciona todo."
      ]
    },
    {
      "cell_type": "code",
      "execution_count": null,
      "metadata": {
        "id": "A8VQZ4Wo1gPp"
      },
      "outputs": [],
      "source": [
        "m = np.array([[2,3,5], \n",
        "              [6,3,8],\n",
        "              [9,5,1]])\n",
        "\n",
        "# Selecciona todos los elementos\n",
        "\n",
        "\n",
        "# Selecciona la primera fila\n",
        "\n",
        "\n",
        "# Selecciona la primera columna\n",
        "\n",
        "\n",
        "# Selecciona la ultima fila\n",
        "\n",
        "\n",
        "# Selecciona la ultima columa\n",
        "\n",
        "\n",
        "# Valor en la posicion fila 1, columna 1\n"
      ]
    },
    {
      "cell_type": "code",
      "execution_count": null,
      "metadata": {
        "colab": {
          "base_uri": "https://localhost:8080/"
        },
        "id": "XYN9LIm26SVV",
        "outputId": "7d838f7d-f103-4775-edb1-3eda84aa4c8a"
      },
      "outputs": [
        {
          "name": "stdout",
          "output_type": "stream",
          "text": [
            "[[ 3 56 21  2]\n",
            " [ 6  9  6  1]\n",
            " [11  2  4 36]\n",
            " [ 7 22 12  5]] \n",
            "\n"
          ]
        }
      ],
      "source": [
        "array = np.array([[3,56,21,2],\n",
        "                 [6,9,6,1],\n",
        "                 [11,2,4,36],\n",
        "                 [7,22,12,5]])\n",
        "\n",
        "print(array,\"\\n\")\n",
        "\n",
        "# Selecciona todas las filas y de la columna 1 a la 2\n",
        "\n",
        "\n",
        "# Selecciona de la fila 1 a la 2 y de la columna 1 a la 2\n"
      ]
    },
    {
      "cell_type": "markdown",
      "metadata": {
        "id": "O2rAQC439Ukg"
      },
      "source": [
        "Acceder a los elementos de un vector de una dimensión funciona igual que manejar listas."
      ]
    },
    {
      "cell_type": "code",
      "execution_count": null,
      "metadata": {
        "colab": {
          "base_uri": "https://localhost:8080/"
        },
        "id": "QL8-hJkp8kXB",
        "outputId": "69bf7ef2-eeb6-4df4-c188-2a9c7cd5d9d4"
      },
      "outputs": [
        {
          "name": "stdout",
          "output_type": "stream",
          "text": [
            "[ 3 56 21  2  6 32  1]\n",
            "[21  2  6]\n"
          ]
        }
      ],
      "source": [
        "array = np.array([3,56,21,2,6,32,1])\n",
        "print(array)\n",
        "\n",
        "# Selecciona todo el vector\n",
        "\n",
        "\n",
        "# Seleccionar elemento en especifico\n",
        "\n",
        "\n",
        "# Selecciona elementos de la posicion 2 hasta la posicion 4\n"
      ]
    },
    {
      "cell_type": "markdown",
      "metadata": {
        "id": "P7QZ7oXJ_S4A"
      },
      "source": [
        "### **Álgebra matricial**"
      ]
    },
    {
      "cell_type": "code",
      "execution_count": null,
      "metadata": {
        "id": "S3qoijf7CHuK"
      },
      "outputs": [],
      "source": [
        "a = np.array([1, 2, 3])\n",
        "b = np.array([1, 0, 1])\n",
        "\n",
        "a1 = np.array([[1, 2, 3], \n",
        "              [4, 5, 6]])\n",
        "b1 = np.array([[3, 5, 1], \n",
        "              [7, 0, 3]])"
      ]
    },
    {
      "cell_type": "code",
      "execution_count": null,
      "metadata": {
        "colab": {
          "base_uri": "https://localhost:8080/"
        },
        "id": "CWLXcCeLN37e",
        "outputId": "ab81e161-ea21-46ad-f7ca-ad429bd47c89"
      },
      "outputs": [
        {
          "name": "stdout",
          "output_type": "stream",
          "text": [
            "[2 2 4]\n",
            "\n",
            "[[ 4  7  4]\n",
            " [11  5  9]]\n"
          ]
        }
      ],
      "source": [
        "# Sumar\n",
        "print(a + b)\n",
        "print(\"\")\n",
        "print(a1 + b1)"
      ]
    },
    {
      "cell_type": "code",
      "execution_count": null,
      "metadata": {
        "colab": {
          "base_uri": "https://localhost:8080/"
        },
        "id": "o9ed4qr_N6cB",
        "outputId": "919d73c5-32ea-4d27-814a-1325eaffdce5"
      },
      "outputs": [
        {
          "name": "stdout",
          "output_type": "stream",
          "text": [
            "[0 2 2]\n",
            "\n",
            "[[ 4  7  4]\n",
            " [11  5  9]]\n"
          ]
        }
      ],
      "source": [
        "# Restar\n",
        "print(a - b)\n",
        "print(\"\")\n",
        "print(a1 + b1)"
      ]
    },
    {
      "cell_type": "code",
      "execution_count": null,
      "metadata": {
        "colab": {
          "base_uri": "https://localhost:8080/"
        },
        "id": "2yapt1MwOfTJ",
        "outputId": "16b07879-2a07-49d8-d34f-376aeabc2b12"
      },
      "outputs": [
        {
          "name": "stdout",
          "output_type": "stream",
          "text": [
            "[[ 3  6  9]\n",
            " [12 15 18]]\n",
            "\n",
            "[[0.33333333 0.66666667 1.        ]\n",
            " [1.33333333 1.66666667 2.        ]]\n",
            "\n",
            "[[0.33333333 0.4        3.        ]\n",
            " [0.57142857        inf 2.        ]]\n"
          ]
        },
        {
          "name": "stderr",
          "output_type": "stream",
          "text": [
            "/usr/local/lib/python3.7/dist-packages/ipykernel_launcher.py:7: RuntimeWarning: divide by zero encountered in true_divide\n",
            "  import sys\n"
          ]
        }
      ],
      "source": [
        "# Funciona igual para vectores de una dimension\n",
        "\n",
        "print( 3*a1 )\n",
        "print(\"\")\n",
        "print( a1/3 )\n",
        "print(\"\")\n",
        "print( a1/b1)"
      ]
    },
    {
      "cell_type": "code",
      "execution_count": null,
      "metadata": {
        "id": "B_vOt-oO_QIO"
      },
      "outputs": [],
      "source": [
        "# Producto escalar de dos vectores\n"
      ]
    },
    {
      "cell_type": "code",
      "execution_count": null,
      "metadata": {
        "id": "lmHVxB1NCVKM"
      },
      "outputs": [],
      "source": [
        "# Norma de un vector\n"
      ]
    },
    {
      "cell_type": "code",
      "execution_count": null,
      "metadata": {
        "id": "cXuvFAQtCoEY"
      },
      "outputs": [],
      "source": [
        "# Producto de dos matrices\n",
        "a = np.array([[1, 2, 3], \n",
        "              [4, 5, 6]])\n",
        "\n",
        "b = np.array([[1, 1], \n",
        "              [2, 2], \n",
        "              [3, 3]])\n"
      ]
    },
    {
      "cell_type": "code",
      "execution_count": null,
      "metadata": {
        "id": "jbtezwWvDTtu"
      },
      "outputs": [],
      "source": [
        "# Matriz transpuesta\n",
        "\n"
      ]
    },
    {
      "cell_type": "code",
      "execution_count": null,
      "metadata": {
        "id": "OXeK0dKIDnF7"
      },
      "outputs": [],
      "source": [
        "# Traza de una matriz\n",
        "a = np.array([[1, 2, 3], \n",
        "              [4, 5, 6], \n",
        "              [7, 8, 9]])\n"
      ]
    },
    {
      "cell_type": "code",
      "execution_count": null,
      "metadata": {
        "id": "TwRr7WYeDvS0"
      },
      "outputs": [],
      "source": [
        "# Determinante de una matriz\n",
        "a = np.array([[1, 2, 3], \n",
        "              [4, 5, 6], \n",
        "              [7, 8, 9]])\n"
      ]
    },
    {
      "cell_type": "code",
      "execution_count": null,
      "metadata": {
        "id": "KZk4eOD2FF7a"
      },
      "outputs": [],
      "source": [
        "# Matriz inversa\n",
        "matriz = np.array([[1, 2], \n",
        "                   [3, 4]])"
      ]
    },
    {
      "cell_type": "code",
      "execution_count": null,
      "metadata": {
        "colab": {
          "base_uri": "https://localhost:8080/"
        },
        "id": "AAX0V_toPdh2",
        "outputId": "9ccf54fb-3fa8-47e9-a8aa-8fc08d20b9a3"
      },
      "outputs": [
        {
          "name": "stdout",
          "output_type": "stream",
          "text": [
            "[4 6] \n",
            "\n",
            "[3 7] \n",
            "\n"
          ]
        }
      ],
      "source": [
        "# Suma de la matriz por columna\n",
        "\n",
        "# Suma de la matriz por fila"
      ]
    },
    {
      "cell_type": "code",
      "execution_count": null,
      "metadata": {
        "colab": {
          "base_uri": "https://localhost:8080/"
        },
        "id": "bkrhmPPBR0VT",
        "outputId": "a8a9617c-97b1-4c8b-8ee5-92cba07c85e3"
      },
      "outputs": [
        {
          "name": "stdout",
          "output_type": "stream",
          "text": [
            "Media por columnas: \n",
            "[ 2. -2.]\n",
            "Media por filas:\n",
            "[0. 0. 0.]\n"
          ]
        }
      ],
      "source": [
        "# Hallar el promedio\n",
        "\n",
        "array = np.array([[1, -1], [2, -2], [3, -3]])\n",
        " \n",
        "\n",
        "meanByCols = np.mean(array, axis=0)\n",
        "meanByRows = np.mean(array, axis=1) \n",
        " \n",
        "\n",
        "print('Media por columnas: ')\n",
        "print(meanByCols)\n",
        "print('Media por filas:')\n",
        "print(meanByRows)"
      ]
    },
    {
      "cell_type": "markdown",
      "metadata": {
        "id": "c7COKq9CFcmc"
      },
      "source": [
        "**Autovalores y autovectores de una matriz**"
      ]
    },
    {
      "cell_type": "code",
      "execution_count": null,
      "metadata": {
        "colab": {
          "base_uri": "https://localhost:8080/"
        },
        "id": "i7X2lr5tFcEo",
        "outputId": "c2371271-874a-46aa-f0f3-140393b4fcf4"
      },
      "outputs": [
        {
          "name": "stdout",
          "output_type": "stream",
          "text": [
            "[ 3.00000000e+00  1.00000000e+00 -3.36770206e-17] \n",
            "\n",
            "[[-4.08248290e-01  7.07106781e-01  5.77350269e-01]\n",
            " [-8.16496581e-01  2.61239546e-16 -5.77350269e-01]\n",
            " [-4.08248290e-01 -7.07106781e-01  5.77350269e-01]] \n",
            "\n"
          ]
        }
      ],
      "source": [
        "a = np.array([[1, 1, 0], [1, 2, 1], [0, 1, 1]])\n",
        "\n",
        "autovalores, autovectores = np.linalg.eig(a)\n",
        "print(autovalores,\"\\n\")\n",
        "print(autovectores,\"\\n\")"
      ]
    },
    {
      "cell_type": "markdown",
      "metadata": {
        "id": "ZOtmhennIIQ8"
      },
      "source": [
        "> **Nota:** La columna **`autovectores[:,i]`** es el vector propio correspondiente al valor propio **`autovalores[i]`**. Los autovectores estan por columna."
      ]
    },
    {
      "cell_type": "code",
      "execution_count": null,
      "metadata": {
        "id": "0qgDrtgCHpW8"
      },
      "outputs": [],
      "source": [
        "print(\"Autovector asociado al tercer autovalor\")\n",
        "print(autovalores[2])\n",
        "print(autovectores[:,2])"
      ]
    },
    {
      "cell_type": "markdown",
      "metadata": {
        "id": "uR0uPM_EI2MP"
      },
      "source": [
        "**Resolver sistema de ecuaciones**\n",
        "\n",
        "Sistema de dos ecuaciones y dos incognitas\n",
        "```\n",
        "3x + 2y = 1\n",
        "x + 6y = 3\n",
        "\n",
        "```"
      ]
    },
    {
      "cell_type": "code",
      "execution_count": null,
      "metadata": {
        "colab": {
          "base_uri": "https://localhost:8080/"
        },
        "id": "-QxLQFwmI-KL",
        "outputId": "9fa2578e-a265-4a90-bf51-44d9ca8e6cc7"
      },
      "outputs": [
        {
          "name": "stdout",
          "output_type": "stream",
          "text": [
            "[0.  0.5]\n"
          ]
        }
      ],
      "source": [
        "a = np.array([[3, 2], [1, 6]])\n",
        "b = np.array([1, 3])\n",
        "print(np.linalg.solve(a, b))"
      ]
    },
    {
      "cell_type": "markdown",
      "metadata": {
        "id": "YLz9zvBMAOpX"
      },
      "source": [
        "### **Guardar y leer array en archivo**\n",
        "\n",
        "**Guardar**\n",
        "```\n",
        "np.save(\"nombre_archivo\", array_para_guardar)\n",
        "\n",
        "```\n",
        "**Leer**\n",
        "\n",
        "Por defecto un **`array`** se guarda con la extensión **`.npy`**\n",
        "```\n",
        "np.save(\"nombre_archivo.npy\")\n",
        "\n",
        "```\n",
        "Esta parte la podemos trabajar en Spyder para que el manejo de archivos sea mas facil"
      ]
    },
    {
      "cell_type": "markdown",
      "metadata": {
        "id": "uWKEFgNkWKmW"
      },
      "source": [
        "## **Leer base de datos con numpy**\n",
        "\n",
        "Vamos a trabajarlo desde Spyder sin embargo, aquí se encuentra la sintaxis de la función que nos permite cargar base de datos:\n",
        "\n",
        "```\n",
        "loadtxt(fname, dtype=float, comments='#', delimiter=None,\n",
        "            converters=None, skiprows=0, usecols=None, unpack=False,\n",
        "            ndmin=0, encoding='bytes', max_rows=None, *, like=None):\n",
        "```\n",
        "\n",
        "Tambien, se puede utilizar la libreria Pandas\n",
        "\n",
        "\n",
        "```\n",
        "pd.read_csv('data.csv', delimiter=' ')\n",
        "```\n",
        "\n",
        " "
      ]
    },
    {
      "cell_type": "markdown",
      "metadata": {
        "id": "A3l2IZ7zIr6U"
      },
      "source": [
        "# **Referencias**\n",
        "https://numpy.org/doc/stable/reference/arrays.html\n",
        "\n",
        "https://aprendeconalf.es/docencia/python/manual/numpy/"
      ]
    }
  ],
  "metadata": {
    "colab": {
      "authorship_tag": "ABX9TyORF+7wcsIkwRmYUrXbjHCr",
      "collapsed_sections": [],
      "include_colab_link": true,
      "name": "Introduccion a Python - Parte 4.ipynb",
      "provenance": []
    },
    "kernelspec": {
      "display_name": "Python 3",
      "name": "python3"
    },
    "language_info": {
      "name": "python"
    }
  },
  "nbformat": 4,
  "nbformat_minor": 0
}
