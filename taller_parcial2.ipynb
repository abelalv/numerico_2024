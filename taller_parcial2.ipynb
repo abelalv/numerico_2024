{
 "cells": [
  {
   "cell_type": "markdown",
   "metadata": {},
   "source": [
    "**Taller de repaso parcial**\n",
    "\n",
    "\n",
    "1. Escriba un pseudocódigo usando LU con pivotiamiento para encontrar la inversa de un matriz $A$, suponiendo que la matriz es invertible.\n",
    "\n",
    "2. Realice una tabla comparativa para los siguientes métodos escribiendo, ventajas, desventajas, cuando se debe usar, cuando se debe evitar cuando es su convergencia. LU con y sin pivotiamiento, Cholescky,  Jacobi y Gauss-seidell \n",
    "\n",
    "3. Explique que es numero de condición y por que es importante.\n",
    "\n",
    "4. Resuelva el siguiente sistema de ecuaciones,\n",
    "$$\\begin{bmatrix} 10^{-20} & 1  \\\\ 1 & 2  \\end{bmatrix} \\begin{bmatrix} x_1 \\\\ x_2  \\end{bmatrix} = \\begin{bmatrix} 1 \\\\ 4  \\end{bmatrix}$$\n",
    "\n",
    "Usando factorización LU con y sin pivoteo. Recuerde que computacionalmente $1+10^{-20} = 1$ y $2-10^{20} = -10^{20}$.\n",
    "\n",
    "5. Analice el residuo generado por el  sistema de ecuaciones  anterior. ¿Es grande o pequeño? ¿Es un buen indicador de la solución? Encuentre la solución exacta el error absoluto. Realice este procesos usando las normas 1, 2 y $\\infty$.\n",
    "\n",
    "6. Porque es importante usar pivoteo en la factorización LU para resolver sistemas de ecuaciones. De ejemplos.\n",
    "\n",
    "7. Las corrientes $i_1,i_2,i_3,i_4$ y $i_5$ en el circuito puede ser determinado  \n",
    "desde la solución del sistema de ecuaciones (obtenido aplicando la ley de Kirchhoff)\n",
    "\n",
    "\\begin{equation}\n",
    " \\begin{split}\n",
    " 9.5i_1-2.5i_2-2i_4=12,\\\\\n",
    " -2.5i_1+11i_2-3.5i_3-5i_5=-16,\\\\\n",
    " -3.5i_2+15.5i_3-4i_5=14,\\\\\n",
    " -2i_1+7i_4-3i_5=10,\\\\\n",
    " -5i_2-4i_3-3i_4+12i_5=-30.\n",
    " \\end{split}\n",
    "\\end{equation}\n",
    "\n",
    "\n",
    "![Circuito](figures/cir.png)\n",
    "\n",
    "que método es el mas adecuado para resolver este sistema de ecuaciones?. Justifique su respuesta. "
   ]
  },
  {
   "cell_type": "markdown",
   "metadata": {},
   "source": []
  },
  {
   "cell_type": "markdown",
   "metadata": {},
   "source": [
    "8. Comente cada línea del siguiente código  que corresponde a algún método de solución de sistemas de ecuaciones. ¿A qué método corresponde?\n",
    "\n"
   ]
  },
  {
   "cell_type": "code",
   "execution_count": 1,
   "metadata": {},
   "outputs": [],
   "source": [
    "import numpy as np\n",
    "\n",
    "def metodo(A, b, x0, tol=1e-6, max_iter=100):\n",
    "    n = len(A)\n",
    "    x = x0.copy()\n",
    "    for iter_count in range(max_iter):\n",
    "        x_new = np.zeros(n)\n",
    "        for i in range(n):\n",
    "            s = np.dot(A[i, :i], x[:i]) + np.dot(A[i, i+1:], x[i+1:])\n",
    "            x_new[i] = (b[i] - s) / A[i, i]\n",
    "        if np.linalg.norm(x_new - x) < tol:\n",
    "            return x_new\n",
    "        x = x_new\n",
    "    raise Exception(\"El método  no converge después de {} iteraciones\".format(max_iter))\n"
   ]
  },
  {
   "cell_type": "markdown",
   "metadata": {},
   "source": [
    "9. Sea el siguiente sistema de ecuaciones lineales\n",
    "$$\\begin{bmatrix} \n",
    "2 & 1 & 0 &\\cdots &0&0&0\\\\ \n",
    "1 & 2 & 0 &\\cdots &0&0&0 \\\\\n",
    "0 & 1 & 2 &\\cdots &0&0&0\\\\\n",
    "\\vdots & \\vdots & \\vdots &\\ddots &\\vdots&\\vdots &\\ddots &\\vdots\\\\\n",
    "0 & 0 & 0 &\\cdots &2&1&0\\\\\n",
    "0 & 0 & 0 &\\cdots &1&2&1\\\\\n",
    "0 & 0 & 0 &\\cdots &0&1&2\\\\\n",
    "\\end{bmatrix}\\begin{bmatrix} x_1 \\\\ x_2 \\\\ x_3\\\\ \\vdots\\\\x_{n-2}\\\\x_{n-1}\\\\ x_n\\end{bmatrix}=\\begin{bmatrix} b_1 \\\\ b_2 \\\\ b_3\\\\ \\vdots\\\\ b_{n-2}\\\\b_{n-1}\\\\ b_n\\end{bmatrix}$$\n",
    "\n",
    "\n",
    "¿Cuales métodos se podrian usar para resolver este sistema de ecuaciones y por que?.\n",
    "¿Qué método es el mas adecuado para resolver este sistema de ecuaciones? ¿Justifique su respuesta?"
   ]
  },
  {
   "cell_type": "markdown",
   "metadata": {},
   "source": [
    "10. Sea la siguiente matriz \n",
    "\n",
    "$$\\begin{bmatrix}1&2&3\\\\4&5&6\\\\7&8&9\\end{bmatrix}$$\n",
    "\n",
    "+ Encuentre las normas 1, 2 y $\\infty$ de la matriz."
   ]
  },
  {
   "cell_type": "markdown",
   "metadata": {},
   "source": [
    "11. Encuentre el polinomio interpolante de Lagrange para los siguientes puntos\n",
    "\n",
    "$$(-1,1),\\quad (0,0),\\quad (1,1),\\quad (2,0),\\quad (3,1)$$"
   ]
  },
  {
   "cell_type": "markdown",
   "metadata": {},
   "source": [
    " 12. Programe el algoritmo para encontrar los polinomios \n",
    "  interpolador para n puntos usando diferencias divididas de Newton\n",
    "  \n",
    "  + Sea los siguientes puntos \n",
    "  \n",
    "| $x_i$|0.10000   |  0.30000&  | 0.50000   |\n",
    "|------|----------|-----------|-----------|\n",
    "|$y_i$ | -1.377000|   0.061000 |   1.875000|\n",
    "\n",
    "\n",
    "+ Encuentre el polinomio  que interpola estos puntos usando \n",
    "un sistema de ecuaciones\n",
    "+ Encuentre el polinomio interpolador usando polinomios de Lagrange\n",
    "+ Encuentre la solución usando diferencias divididas de Newton\n",
    "\n",
    "13. Sea los siguientes puntos \n",
    "\n",
    " |$x_i$|0.10000|   0.30000|   0.50000 |  0.70000 |\n",
    " |-----|-------|----------|-----------|----------|\n",
    " |$y_i$| -1.380000|   -0.020000 |   1.500000 |   3.180000|\n",
    "\n",
    " \n",
    "+ Encuentre la solución usando diferencias divididas de Newton\n",
    "+ ¿Por qué en este caso $a_3=0$? Justifique su respuesta\n",
    "\n",
    "14. Sea los siguientes puntos \n",
    "\n",
    "|$x_i$| 0.01 |-0.01| 0.1|-0.1| 1|  -1|\n",
    "|-----|------|-----|----|----|---|----|\n",
    "|$y_i$| -0.50637|0.50637|-0.54402|   0.54402|   0.84147|  -0.84147|\n",
    "\n",
    "+ Encuentre el polinomio que interpola estos puntos usando un sistema de ecuaciones generado por una matriz \n",
    "+ Encuentre la solución usando diferencias divididas de Newton\n",
    "+ Grafique el polinomio obtenido en cada uno de los puntos anteriores\n",
    "+ Compare esa gráfica con $f(x)=1/\\sin(x)$\n"
   ]
  },
  {
   "cell_type": "markdown",
   "metadata": {},
   "source": [
    "15. Sea $f(x)=\\sin(x)$, si queremos interpolar esta función \n",
    "en el intervalo $[0,\\pi]$ para los puntos $x_i=0, \\frac{1}{4}\\pi, \\frac{1}{2}\\pi,\\frac{3}{4}\\pi$ y $\\pi$. Encuentre el error \n",
    "del polinomio en ese intervalo. ¿Considera que ese polinomio es una buena aproximación \n",
    "de la función $f(x)$?. Justifique su respuesta. \n",
    " "
   ]
  },
  {
   "cell_type": "markdown",
   "metadata": {},
   "source": [
    "16. Describa que el fenómeno Runge. De un ejemplo del método Runge.\n",
    "17. Consulte el siguiente comando la  [librería](http://https://docs.scipy.org/doc/scipy/reference/generated/scipy.interpolate.lagrange.html). Úselo  para interpolar el punto 4 y compare sus respuestas.\n",
    " ¿Cómo obtendría el valor de $f(0.2)$?"
   ]
  },
  {
   "cell_type": "markdown",
   "metadata": {},
   "source": [
    "18. Observe los siguientes puntos"
   ]
  },
  {
   "cell_type": "code",
   "execution_count": 2,
   "metadata": {},
   "outputs": [
    {
     "name": "stderr",
     "output_type": "stream",
     "text": [
      "/tmp/ipykernel_21023/1652022106.py:4: MatplotlibDeprecationWarning: The seaborn styles shipped by Matplotlib are deprecated since 3.6, as they no longer correspond to the styles shipped by seaborn. However, they will remain available as 'seaborn-v0_8-<style>'. Alternatively, directly use the seaborn API instead.\n",
      "  plt.style.use('seaborn-poster')\n"
     ]
    },
    {
     "data": {
      "image/png": "[encoded data removed]",
      "text/plain": [
       "<Figure size 1000x800 with 1 Axes>"
      ]
     },
     "metadata": {},
     "output_type": "display_data"
    }
   ],
   "source": [
    "import numpy as np\n",
    "import matplotlib.pyplot as plt\n",
    "\n",
    "plt.style.use('seaborn-poster')\n",
    "\n",
    "# generate x and y\n",
    "x = np.linspace(0, 1, 101)\n",
    "y = 1 + x + x * np.random.random(len(x))\n",
    "\n",
    "# plot the results\n",
    "plt.figure(figsize = (10,8))\n",
    "plt.plot(x, y, 'b.')\n",
    "\n",
    "plt.xlabel('x')\n",
    "plt.ylabel('y')\n",
    "plt.show()"
   ]
  },
  {
   "cell_type": "markdown",
   "metadata": {},
   "source": [
    "Note que es tienen un comportamiento lineal, Encuentre una recta que minimice el error cuadrático de los puntos dados. Para ello el método de cuadrados mínimos. Encuentre la magnitud del error.\n",
    "\n",
    "$$||y-\\hat{y}||_2$$\n",
    "donde $y$ es el vector de los puntos dados y $\\hat{y}$ es el vector de los puntos estimados."
   ]
  },
  {
   "cell_type": "markdown",
   "metadata": {},
   "source": [
    "19. Observe los siguientes puntos "
   ]
  },
  {
   "cell_type": "code",
   "execution_count": 3,
   "metadata": {},
   "outputs": [
    {
     "name": "stderr",
     "output_type": "stream",
     "text": [
      "/tmp/ipykernel_21023/3598641510.py:4: MatplotlibDeprecationWarning: The seaborn styles shipped by Matplotlib are deprecated since 3.6, as they no longer correspond to the styles shipped by seaborn. However, they will remain available as 'seaborn-v0_8-<style>'. Alternatively, directly use the seaborn API instead.\n",
      "  plt.style.use('seaborn-poster')\n"
     ]
    },
    {
     "data": {
      "image/png": "[encoded data removed]",
      "text/plain": [
       "<Figure size 1000x800 with 1 Axes>"
      ]
     },
     "metadata": {},
     "output_type": "display_data"
    }
   ],
   "source": [
    "import numpy as np\n",
    "import matplotlib.pyplot as plt\n",
    "\n",
    "plt.style.use('seaborn-poster')\n",
    "\n",
    "# let's generate x and y, and add some noise into y\n",
    "x = np.linspace(0, 10, 101)\n",
    "y = 0.1*np.exp(0.3*x) + 0.1*np.random.random(len(x))\n",
    "\n",
    "# Let's have a look of the data\n",
    "plt.figure(figsize = (10,8))\n",
    "plt.plot(x, y, 'b.')\n",
    "plt.xlabel('x')\n",
    "plt.ylabel('y')\n",
    "plt.show()"
   ]
  },
  {
   "cell_type": "markdown",
   "metadata": {},
   "source": [
    "Note que tiene un comportamiento de la forma \n",
    "\n",
    "$$y=ae^{bx}$$\n",
    "\n",
    "este sistema lo podemos linealizar tomando logaritmos\n",
    "\n",
    "$$\\ln(y)=\\ln(a)+bx$$\n",
    "\n",
    "Encuentre una recta que minimice el error cuadrático de los puntos dados. Para ello el método de cuadrados mínimos y grafique su respuesta en el mismo gráfico de los puntos dados. Encuentre la magnitud del error.\n",
    "\n",
    "$$||y-\\hat{y}||_2$$\n",
    "donde $y$ es el vector de los puntos dados y $\\hat{y}$ es el vector de los puntos estimados."
   ]
  },
  {
   "cell_type": "markdown",
   "metadata": {},
   "source": [
    "20. # Ejemplo con datos reales.\n",
    "\n",
    "Vamos a usar los datos de [pingüinos](https://github.com/allisonhorst/palmerpenguins), los cuales se encuentran  pre-cargados en la librería [searbosn](https://seaborn.pydata.org/) y que nos permiten analizar la relación entre la longitud del pico y la masa corporal de los pingüinos. En la librearía seaborn podemos encontrar información de tres tipos de especies y en donde podemos analizar las siguientes variables:\n",
    "* bill_length_mm: longitud del pico en milímetros\n",
    "* bill_depth_mm: profunidad del pico en milímetros\n",
    "* flipper_length_mm: longitud de las alas en milímetros\n",
    "* body_mass_g: masa corporal en gramos\n",
    "* species: especie de pingüino"
   ]
  },
  {
   "cell_type": "code",
   "execution_count": 4,
   "metadata": {},
   "outputs": [],
   "source": [
    "import numpy as np\n",
    "from scipy.stats import norm \n",
    "import pandas as pd \n",
    "import seaborn as sns\n",
    "import matplotlib.pyplot as plt\n",
    "\n",
    "%matplotlib inline\n",
    "plt.rcParams['figure.figsize'] = (20, 10)\n",
    "plt.style.use('ggplot')\n",
    "\n",
    "import warnings\n",
    "warnings.filterwarnings('ignore')"
   ]
  },
  {
   "cell_type": "code",
   "execution_count": 5,
   "metadata": {},
   "outputs": [
    {
     "data": {
      "text/html": [
       "<div>\n",
       "<style scoped>\n",
       "    .dataframe tbody tr th:only-of-type {\n",
       "        vertical-align: middle;\n",
       "    }\n",
       "\n",
       "    .dataframe tbody tr th {\n",
       "        vertical-align: top;\n",
       "    }\n",
       "\n",
       "    .dataframe thead th {\n",
       "        text-align: right;\n",
       "    }\n",
       "</style>\n",
       "<table border=\"1\" class=\"dataframe\">\n",
       "  <thead>\n",
       "    <tr style=\"text-align: right;\">\n",
       "      <th></th>\n",
       "      <th>species</th>\n",
       "      <th>island</th>\n",
       "      <th>bill_length_mm</th>\n",
       "      <th>bill_depth_mm</th>\n",
       "      <th>flipper_length_mm</th>\n",
       "      <th>body_mass_g</th>\n",
       "      <th>sex</th>\n",
       "    </tr>\n",
       "  </thead>\n",
       "  <tbody>\n",
       "    <tr>\n",
       "      <th>0</th>\n",
       "      <td>Adelie</td>\n",
       "      <td>Torgersen</td>\n",
       "      <td>39.1</td>\n",
       "      <td>18.7</td>\n",
       "      <td>181.0</td>\n",
       "      <td>3750.0</td>\n",
       "      <td>Male</td>\n",
       "    </tr>\n",
       "    <tr>\n",
       "      <th>1</th>\n",
       "      <td>Adelie</td>\n",
       "      <td>Torgersen</td>\n",
       "      <td>39.5</td>\n",
       "      <td>17.4</td>\n",
       "      <td>186.0</td>\n",
       "      <td>3800.0</td>\n",
       "      <td>Female</td>\n",
       "    </tr>\n",
       "    <tr>\n",
       "      <th>2</th>\n",
       "      <td>Adelie</td>\n",
       "      <td>Torgersen</td>\n",
       "      <td>40.3</td>\n",
       "      <td>18.0</td>\n",
       "      <td>195.0</td>\n",
       "      <td>3250.0</td>\n",
       "      <td>Female</td>\n",
       "    </tr>\n",
       "    <tr>\n",
       "      <th>3</th>\n",
       "      <td>Adelie</td>\n",
       "      <td>Torgersen</td>\n",
       "      <td>NaN</td>\n",
       "      <td>NaN</td>\n",
       "      <td>NaN</td>\n",
       "      <td>NaN</td>\n",
       "      <td>NaN</td>\n",
       "    </tr>\n",
       "    <tr>\n",
       "      <th>4</th>\n",
       "      <td>Adelie</td>\n",
       "      <td>Torgersen</td>\n",
       "      <td>36.7</td>\n",
       "      <td>19.3</td>\n",
       "      <td>193.0</td>\n",
       "      <td>3450.0</td>\n",
       "      <td>Female</td>\n",
       "    </tr>\n",
       "  </tbody>\n",
       "</table>\n",
       "</div>"
      ],
      "text/plain": [
       "  species     island  bill_length_mm  bill_depth_mm  flipper_length_mm  \\\n",
       "0  Adelie  Torgersen            39.1           18.7              181.0   \n",
       "1  Adelie  Torgersen            39.5           17.4              186.0   \n",
       "2  Adelie  Torgersen            40.3           18.0              195.0   \n",
       "3  Adelie  Torgersen             NaN            NaN                NaN   \n",
       "4  Adelie  Torgersen            36.7           19.3              193.0   \n",
       "\n",
       "   body_mass_g     sex  \n",
       "0       3750.0    Male  \n",
       "1       3800.0  Female  \n",
       "2       3250.0  Female  \n",
       "3          NaN     NaN  \n",
       "4       3450.0  Female  "
      ]
     },
     "execution_count": 5,
     "metadata": {},
     "output_type": "execute_result"
    }
   ],
   "source": [
    "df = sns.load_dataset(\"penguins\")\n",
    "type(df) # note que df es un objeto de tipo DataFrame  de pandas\n",
    "# para visualizar el encabezado del DataFrame\n",
    "df.head()"
   ]
  },
  {
   "cell_type": "code",
   "execution_count": 6,
   "metadata": {},
   "outputs": [
    {
     "name": "stdout",
     "output_type": "stream",
     "text": [
      "Total de elementos  2408\n",
      "Número de filas y columnas (344, 7)\n"
     ]
    }
   ],
   "source": [
    "# para visualizar el tamaño del DataFrame\n",
    "print('Total de elementos ',df.size)\n",
    "\n",
    "# para visualizar el número de filas y columnas del DataFrame\n",
    "print('Número de filas y columnas',df.shape)"
   ]
  },
  {
   "cell_type": "code",
   "execution_count": 7,
   "metadata": {},
   "outputs": [
    {
     "data": {
      "text/html": [
       "<div>\n",
       "<style scoped>\n",
       "    .dataframe tbody tr th:only-of-type {\n",
       "        vertical-align: middle;\n",
       "    }\n",
       "\n",
       "    .dataframe tbody tr th {\n",
       "        vertical-align: top;\n",
       "    }\n",
       "\n",
       "    .dataframe thead th {\n",
       "        text-align: right;\n",
       "    }\n",
       "</style>\n",
       "<table border=\"1\" class=\"dataframe\">\n",
       "  <thead>\n",
       "    <tr style=\"text-align: right;\">\n",
       "      <th></th>\n",
       "      <th>bill_length_mm</th>\n",
       "      <th>bill_depth_mm</th>\n",
       "      <th>flipper_length_mm</th>\n",
       "      <th>body_mass_g</th>\n",
       "    </tr>\n",
       "  </thead>\n",
       "  <tbody>\n",
       "    <tr>\n",
       "      <th>count</th>\n",
       "      <td>342.000000</td>\n",
       "      <td>342.000000</td>\n",
       "      <td>342.000000</td>\n",
       "      <td>342.000000</td>\n",
       "    </tr>\n",
       "    <tr>\n",
       "      <th>mean</th>\n",
       "      <td>43.921930</td>\n",
       "      <td>17.151170</td>\n",
       "      <td>200.915205</td>\n",
       "      <td>4201.754386</td>\n",
       "    </tr>\n",
       "    <tr>\n",
       "      <th>std</th>\n",
       "      <td>5.459584</td>\n",
       "      <td>1.974793</td>\n",
       "      <td>14.061714</td>\n",
       "      <td>801.954536</td>\n",
       "    </tr>\n",
       "    <tr>\n",
       "      <th>min</th>\n",
       "      <td>32.100000</td>\n",
       "      <td>13.100000</td>\n",
       "      <td>172.000000</td>\n",
       "      <td>2700.000000</td>\n",
       "    </tr>\n",
       "    <tr>\n",
       "      <th>25%</th>\n",
       "      <td>39.225000</td>\n",
       "      <td>15.600000</td>\n",
       "      <td>190.000000</td>\n",
       "      <td>3550.000000</td>\n",
       "    </tr>\n",
       "    <tr>\n",
       "      <th>50%</th>\n",
       "      <td>44.450000</td>\n",
       "      <td>17.300000</td>\n",
       "      <td>197.000000</td>\n",
       "      <td>4050.000000</td>\n",
       "    </tr>\n",
       "    <tr>\n",
       "      <th>75%</th>\n",
       "      <td>48.500000</td>\n",
       "      <td>18.700000</td>\n",
       "      <td>213.000000</td>\n",
       "      <td>4750.000000</td>\n",
       "    </tr>\n",
       "    <tr>\n",
       "      <th>max</th>\n",
       "      <td>59.600000</td>\n",
       "      <td>21.500000</td>\n",
       "      <td>231.000000</td>\n",
       "      <td>6300.000000</td>\n",
       "    </tr>\n",
       "  </tbody>\n",
       "</table>\n",
       "</div>"
      ],
      "text/plain": [
       "       bill_length_mm  bill_depth_mm  flipper_length_mm  body_mass_g\n",
       "count      342.000000     342.000000         342.000000   342.000000\n",
       "mean        43.921930      17.151170         200.915205  4201.754386\n",
       "std          5.459584       1.974793          14.061714   801.954536\n",
       "min         32.100000      13.100000         172.000000  2700.000000\n",
       "25%         39.225000      15.600000         190.000000  3550.000000\n",
       "50%         44.450000      17.300000         197.000000  4050.000000\n",
       "75%         48.500000      18.700000         213.000000  4750.000000\n",
       "max         59.600000      21.500000         231.000000  6300.000000"
      ]
     },
     "execution_count": 7,
     "metadata": {},
     "output_type": "execute_result"
    }
   ],
   "source": [
    "# para visualizar los datos estadísticos básicos  del DataFrame\n",
    "df.describe()"
   ]
  },
  {
   "cell_type": "code",
   "execution_count": 8,
   "metadata": {},
   "outputs": [
    {
     "name": "stdout",
     "output_type": "stream",
     "text": [
      "     species  island  bill_length_mm  bill_depth_mm  flipper_length_mm  \\\n",
      "0      False   False           False          False              False   \n",
      "1      False   False           False          False              False   \n",
      "2      False   False           False          False              False   \n",
      "3      False   False            True           True               True   \n",
      "4      False   False           False          False              False   \n",
      "..       ...     ...             ...            ...                ...   \n",
      "339    False   False            True           True               True   \n",
      "340    False   False           False          False              False   \n",
      "341    False   False           False          False              False   \n",
      "342    False   False           False          False              False   \n",
      "343    False   False           False          False              False   \n",
      "\n",
      "     body_mass_g    sex  \n",
      "0          False  False  \n",
      "1          False  False  \n",
      "2          False  False  \n",
      "3           True   True  \n",
      "4          False  False  \n",
      "..           ...    ...  \n",
      "339         True   True  \n",
      "340        False  False  \n",
      "341        False  False  \n",
      "342        False  False  \n",
      "343        False  False  \n",
      "\n",
      "[344 rows x 7 columns]\n",
      "species               0\n",
      "island                0\n",
      "bill_length_mm        2\n",
      "bill_depth_mm         2\n",
      "flipper_length_mm     2\n",
      "body_mass_g           2\n",
      "sex                  11\n",
      "dtype: int64\n"
     ]
    }
   ],
   "source": [
    "# aqui primero debemos mirar si hay datos faltantes\n",
    "print(df.isnull()) # esto nos devuelve un DataFrame de booleanos\n",
    "# aqui imprime si el dato es  faltante o no\n",
    "print(df.isnull().sum()) # esto nos devuelve la suma de los valores faltantes por columna"
   ]
  },
  {
   "cell_type": "code",
   "execution_count": null,
   "metadata": {},
   "outputs": [],
   "source": [
    "# para manipular la  base de datos debemos hacer una copia\n",
    "\n",
    "df1 = df.copy()"
   ]
  },
  {
   "cell_type": "code",
   "execution_count": null,
   "metadata": {},
   "outputs": [],
   "source": [
    "#vamos a buscar los datos faltantes en la columna \"body_mass_g\"\n",
    "print(df1['body_mass_g'].isnull().sum()) # esto nos devuelve la suma de los valores faltantes por columna"
   ]
  },
  {
   "cell_type": "code",
   "execution_count": null,
   "metadata": {},
   "outputs": [],
   "source": [
    "#vamos a ver la fila de los datos faltantes en la columna \"body_mass_g\"\n",
    "print(df1[df1['body_mass_g'].isnull()])"
   ]
  },
  {
   "cell_type": "markdown",
   "metadata": {},
   "source": [
    "Necesitamos buscar alguna estrategia para estudiar los datos, por ejemplo,  podemos rellenarlos con el promedio, o podemos omitir esos datos, o podemos usar la regresión lineal para estimar los valores faltantes (Note que para buscar una estrategia siempre es dependiente al problema). Para  este caso vamos a omitir los datos faltantes."
   ]
  },
  {
   "cell_type": "code",
   "execution_count": null,
   "metadata": {},
   "outputs": [],
   "source": [
    "# eliminar la fila con los datos faltantes\n",
    "df1.dropna(subset=['body_mass_g'], inplace=True)\n",
    "print(df1.isnull().sum()) # esto nos devuelve la suma de los valores faltantes por columna\n",
    "print(df1.shape) # para visualizar el número de filas y columnas del DataFrame"
   ]
  },
  {
   "cell_type": "markdown",
   "metadata": {},
   "source": [
    "Vamos a estudiar la relación entre la longitud del pico y la masa corporal de los pingüinos. Para ello vamos a ver si existe una relación lineal entre estas dos variables. Una forma básica de estudiar dicha relación es hacer un primer gráfico de dispersión de los datos.\n"
   ]
  },
  {
   "cell_type": "code",
   "execution_count": null,
   "metadata": {},
   "outputs": [],
   "source": [
    "by=df1[\"body_mass_g\"] # extraemos la columna body_mass_g\n",
    "bl=df1[\"bill_length_mm\"] # extraemos la columna bill_length_mm"
   ]
  },
  {
   "cell_type": "code",
   "execution_count": null,
   "metadata": {},
   "outputs": [],
   "source": [
    "\n",
    "plt.scatter(by, bl)\n",
    "plt.xlabel(\"body mass grams\")\n",
    "plt.ylabel(\"bill length mm\")\n",
    "plt.title(\"Relationship between body mass and bill length\")\n",
    "plt.show()"
   ]
  },
  {
   "cell_type": "markdown",
   "metadata": {},
   "source": [
    "Encuentre una recta que minimice el error cuadrático de los puntos dados. Para ello el método de cuadrados mínimos y grafique su respuesta en el mismo gráfico de los puntos dados. Encuentre la magnitud del error.\n",
    "\n",
    "$$||y-\\hat{y}||_2$$\n",
    "donde $y$ es el vector de los puntos dados y $\\hat{y}$ es el vector de los puntos estimados."
   ]
  },
  {
   "cell_type": "markdown",
   "metadata": {},
   "source": [
    "21. Estudie la [librería](https://numpy.org/doc/stable/reference/generated/numpy.linalg.lstsq.html) numpy para resolver el problema anterior. Compare sus resultados."
   ]
  }
 ],
 "metadata": {
  "kernelspec": {
   "display_name": "Python 3 (ipykernel)",
   "language": "python",
   "name": "python3"
  },
  "language_info": {
   "codemirror_mode": {
    "name": "ipython",
    "version": 3
   },
   "file_extension": ".py",
   "mimetype": "text/x-python",
   "name": "python",
   "nbconvert_exporter": "python",
   "pygments_lexer": "ipython3",
   "version": "3.11.0"
  }
 },
 "nbformat": 4,
 "nbformat_minor": 2
}
