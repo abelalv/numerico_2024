{
 "cells": [
  {
   "cell_type": "code",
   "execution_count": null,
   "metadata": {},
   "outputs": [],
   "source": []
  },
  {
   "cell_type": "markdown",
   "metadata": {},
   "source": [
    "# Errores \n",
    "\n",
    "Los computadores tiene siempre errores asociados al cálculo numérico, Estos errores pueden ser de sos tipos\n",
    "\n",
    "## Error de redondeo\n",
    "\n",
    "## Error de truncamiento\n",
    "\n",
    "\n",
    "\n",
    "## Error de truncamiento\n",
    "Es aquel que se produce por la limitación de la cantidad de operaciones que se pueden realizar en un cálculo. Por ejemplo, si se tiene una serie infinita, la máquina no puede realizar todas las operaciones necesarias para calcular el valor exacto de la serie, por lo que se trunca la serie a un número finito de términos. Por ejemplo la serie de Taylor de una función $f(x)$ alrededor de un punto $a$ es\n",
    "\n",
    "$$f(x) = \\sum_{n=0}^{\\infty} f^{(n)}(a)\\frac{(x-a)^n}{n!},$$\n",
    "\n",
    "esta serie no se puede representar en la máquina de forma exacta, por lo que se trunca a un número finito de términos. El error de truncamiento es el error que se comete al truncar la serie, es decir\n",
    "\n",
    "$$E_t = f(x) - \\sum_{n=0}^{N} f^{(n)}(a)\\frac{(x-a)^n}{n!}+ R_N(x),$$\n",
    "\n",
    "donde $R_N(x)$ es el residuo de la serie, es decir el error que se comete al truncar la serie.\n",
    "\n",
    "$$R_N(x) = \\frac{f^{(N+1)}(\\xi)}{(N+1)!}(x-a)^{N+1},$$\n",
    "para algún $\\xi$ entre $a$ y $x$. Este $R_N(x)$ es el error que se comete al truncar la serie, y es el error de truncamiento.\n",
    "\n",
    "Veamos un ejemplo en el que se trunca la serie de Taylor de la función $f(x) = e^x$ alrededor de $x=0$ a un número finito de términos.\n"
   ]
  },
  {
   "cell_type": "code",
   "execution_count": null,
   "metadata": {},
   "outputs": [],
   "source": [
    "import math\n",
    "\n",
    "# Calculate the value of e using a truncated series\n",
    "def calculate_e(n):\n",
    "    e = 0\n",
    "    for i in range(n):\n",
    "        e += 1 / math.factorial(i)\n",
    "    return e\n",
    "\n",
    "# Compare the calculated value with the actual value of e\n",
    "actual_e = math.e\n",
    "calculated_e = calculate_e(10)\n",
    "\n",
    "truncation_error = abs(actual_e - calculated_e)\n",
    "print(\"Truncation Error:\", truncation_error)"
   ]
  },
  {
   "cell_type": "markdown",
   "metadata": {},
   "source": [
    "## Error de redondeo \n",
    "Es aquel que se produce por la limitación de la precisión de la máquina. Por ejemplo, si se tiene un número real con infinitas cifras decimales, la máquina no puede almacenar todas esas cifras, por lo que se redondea el número a un número finito de cifras decimales.  \n",
    "\n",
    "Por ejemplo, si se tiene un número real $x$ con infinitas cifras decimales, la máquina lo redondea a un número finito de cifras decimales, es decir\n",
    "\n",
    "$$\\frac{1}{3}\\approx 0.333333$$\n",
    "\n",
    "\n",
    "Note que aquí existe un error asociado. La tarea de los métodos numéricos es minimizar estos errores y que estos a raíz que se hagan operaciones no crescan de forma descontrolada."
   ]
  },
  {
   "cell_type": "markdown",
   "metadata": {},
   "source": [
    "Veamos un ejemplo, el número $\\frac{1}{10}$ no se puede representar de forma exacta en la máquina, por lo que se redondea a un número finito de cifras decimales, es decir\n",
    "$$\\frac{1}{10}\\approx 0.1$$\n",
    "como los computadores guardan los números en notación binaria este numero nunca se podrá aproximar de forma exacta por lo que siempre se tendrá un error asociado."
   ]
  },
  {
   "cell_type": "code",
   "execution_count": 12,
   "metadata": {},
   "outputs": [
    {
     "name": "stdout",
     "output_type": "stream",
     "text": [
      "0.100000000000000005551115123126\n"
     ]
    }
   ],
   "source": [
    "num = 0.1\n",
    "print(format(num, \".30f\"))\n",
    "print(format("
   ]
  },
  {
   "cell_type": "code",
   "execution_count": 13,
   "metadata": {},
   "outputs": [
    {
     "name": "stdout",
     "output_type": "stream",
     "text": [
      "0.100000000000000005551115123126\n"
     ]
    }
   ],
   "source": [
    "num = 0.1\n",
    "print(format(num, \".30g\"))"
   ]
  },
  {
   "cell_type": "markdown",
   "metadata": {},
   "source": [
    "De esta forma podemos detectar que la siguiente operación es inexacta."
   ]
  },
  {
   "cell_type": "code",
   "execution_count": 7,
   "metadata": {},
   "outputs": [
    {
     "data": {
      "text/plain": [
       "False"
      ]
     },
     "execution_count": 7,
     "metadata": {},
     "output_type": "execute_result"
    }
   ],
   "source": [
    ".1 + .1 + .1 == .3#"
   ]
  },
  {
   "cell_type": "markdown",
   "metadata": {},
   "source": [
    "Como podemos mejorar esto. la función [round()](https://docs.python.org/2/library/functions.html#round) redondea un número a un número finito de cifras decimales al cuales se le indique como argumento. Ahora si usamos esta función para redondear el número $\\frac{1}{10}$ a un número finito de cifras decimales, es decir"
   ]
  },
  {
   "cell_type": "code",
   "execution_count": 19,
   "metadata": {},
   "outputs": [
    {
     "data": {
      "text/plain": [
       "False"
      ]
     },
     "execution_count": 19,
     "metadata": {},
     "output_type": "execute_result"
    }
   ],
   "source": [
    "round(0.1,1) + round(0.1,1) + round(0.1,1) == round(0.3,1)"
   ]
  },
  {
   "cell_type": "markdown",
   "metadata": {},
   "source": [
    "Ahora si operamos de esta forma el error de redondeo disminuye."
   ]
  },
  {
   "cell_type": "code",
   "execution_count": 20,
   "metadata": {},
   "outputs": [
    {
     "data": {
      "text/plain": [
       "True"
      ]
     },
     "execution_count": 20,
     "metadata": {},
     "output_type": "execute_result"
    }
   ],
   "source": [
    "round(0.1 + 0.1 + 0.1, 10) == round(0.3, 10)"
   ]
  },
  {
   "cell_type": "markdown",
   "metadata": {},
   "source": [
    "# $\\epsilon$-máquina \n",
    "El $\\epsilon$-máquina es el número más pequeño tal que $1+\\epsilon > 1$. En otras palabras, es el número más pequeño tal que la máquina puede representar un número mayor que 1. En la mayoría de las máquinas, el $\\epsilon$-máquina es aproximadamente $10^{-16}$.\n",
    "\n",
    "## Ejercicio\n",
    "\n",
    "Genere un programa que calcule el $\\epsilon$-máquina de la máquina en la que está trabajando. Para ello use el siguiente algoritmo\n",
    "\n",
    "1. Inicialice una variable `epsilon` en 1.\n",
    "2. En un ciclo `while` multiplique `epsilon` por 1/2.\n",
    "3. En cada iteración del ciclo `while` verifique si `1+epsilon` es mayor que 1.\n",
    "4. Cuando `1+epsilon` sea igual a 1, imprima `epsilon` y termine el ciclo `while`.\n"
   ]
  },
  {
   "cell_type": "markdown",
   "metadata": {},
   "source": [
    "# Cifras significativas\n",
    "\n",
    "Las cifras significativas de un número son todas las cifras que se conocen con certeza más una cifra dudosa. Por ejemplo, si se tiene el número 123.45, se conocen con certeza las cifras 1, 2, 3, 4 y 5, por lo que se tienen 5 cifras significativas. La cifra 5 es dudosa, por lo que se tiene 5 cifras significativas.\n",
    "\n"
   ]
  },
  {
   "cell_type": "markdown",
   "metadata": {},
   "source": [
    "# Precisión y exactitud\n",
    "\n",
    "Esta son dos conceptos que necesitamos que posean un método numérico. La precisión es la cantidad de cifras significativas que posee un número, mientras que la exactitud es la cercanía del valor obtenido con el valor real.\n",
    "\n",
    "![Presisicón y exactirud](figures/exactitud.png)"
   ]
  },
  {
   "cell_type": "code",
   "execution_count": null,
   "metadata": {},
   "outputs": [],
   "source": []
  },
  {
   "cell_type": "markdown",
   "metadata": {},
   "source": [
    "# Calculo de un error en métodos numéricos\n",
    "\n",
    "El cálculo de los errores de un método numérico se puede hacer de dos formas diferentes, el error absoluto y el error relativo.\n",
    "supongamos que se tiene una cantidad $x_{real}$ y una cantidad $x_{aprox}$, el error absoluto se define como\n",
    "\n",
    "$$E = |x_{real} - x_{aprox}|$$\n",
    "\n",
    "Ahora este error muchas veces no nos dice mucho, por ejemplo supongamos que se quiere medir la longitud de  un edificio y se obtiene que la longitud es de 10000 cm, pero el error absoluto es de 1 cm. Ahora bien, se esta intalando un remache en un avión y se obtiene que la longitud es de 10 cm, pero el error absoluto es de 1 cm. Si usamos en este caso el error absoluto es igual de malo en ambos casos, pero claramente el error en el segundo caso es mucho peor que en el primer caso. Por lo que se introduce el error relativo que se define como\n",
    "\n",
    "$$E = \\frac{|x_{real} - x_{aprox}|}{|x_{real}|}$$"
   ]
  },
  {
   "cell_type": "markdown",
   "metadata": {},
   "source": [
    "## Ejercicio\n",
    "\n",
    "1. encuentre la serie de Taylor de la función $f(x)=e^x$ alrededor de $x=0$. Y aproxime el valor de $e$ con 50 términos de la serie de Taylor. Calcule el error absoluto y el error relativo. Realice una gráfica de como varía el error absoluto y el error relativo con el número de términos de la serie de Taylor.\n",
    "\n",
    "2. 4.16 4.19"
   ]
  },
  {
   "cell_type": "code",
   "execution_count": null,
   "metadata": {},
   "outputs": [],
   "source": []
  }
 ],
 "metadata": {
  "kernelspec": {
   "display_name": "Python 3",
   "language": "python",
   "name": "python3"
  },
  "language_info": {
   "codemirror_mode": {
    "name": "ipython",
    "version": 3
   },
   "file_extension": ".py",
   "mimetype": "text/x-python",
   "name": "python",
   "nbconvert_exporter": "python",
   "pygments_lexer": "ipython3",
   "version": "3.11.0"
  }
 },
 "nbformat": 4,
 "nbformat_minor": 2
}
