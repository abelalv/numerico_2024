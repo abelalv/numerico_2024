{
 "cells": [
  {
   "cell_type": "code",
   "execution_count": null,
   "metadata": {},
   "outputs": [],
   "source": []
  },
  {
   "cell_type": "markdown",
   "metadata": {},
   "source": [
    "## Residuo \n",
    "\n",
    "Como hemos visto anteriormente al solucionar un sistema de ecuaciones numéricamente, el resultado no es exacto, es decir, existe un error asociado al cálculo de la solución. Dicho error se puede medir a través del vector residual del sistema del sistema de ecuaciones, el cual se define como \n",
    "$$r=A\\hat{x}-b$$\n",
    "donde $A$ es la matriz de coeficientes, $\\hat{x}$ es el vector solución y $b$ es el vector de términos independientes.\n",
    "para cuantificar el residuo se puede utilizar una norma, de esta forma definimos el error  hacia delante en la norma infinito como\n",
    "$$E_f=||r||_\\infty= \\sqrt{\\sum_{i=1}^{n}r_i^2}.$$\n",
    "Además podríamos definir el error haca atrás en la norma infinito como \n",
    "$$E_b=||x-\\overline{x}||_\\infty,$$\n",
    "donde $x$ es el vector solución exacta y $\\overline{x}$ es el vector solución aproximada.\n"
   ]
  },
  {
   "cell_type": "markdown",
   "metadata": {},
   "source": [
    "## Ejercicio\n",
    "+ Encuentre el error hacia adelante, al solucionar los siguientes sistemas de ecuaciones usando el método de LU con y sin pivote.\n",
    "\n",
    "$$\\begin{array}{ccc}\n",
    "x+y&=&1\\\\\n",
    "3x+y&=&2\n",
    "\\end{array}$$\n",
    "\n",
    "\n",
    "$$\\begin{array}{ccc}\n",
    "10^{-16}x+y&=&1\\\\\n",
    "x+y&=&2\n",
    "\\end{array}$$\n",
    "\n",
    "\n",
    "$$\\begin{array}{ccc}\n",
    "x+y&=&1\\\\\n",
    "x+(1+10^{-16})y&=&2\n",
    "\\end{array}$$\n",
    "\n",
    "+ Note que el error hacia atrás puede ser cero, un numero muy pequeño o un número grande. ¿Qué significa cada uno de estos casos? \n",
    "+ Encuentre el error hacia atrás de los anteriores sistemas, para encontrar $x$ use la regla de Cramer."
   ]
  },
  {
   "cell_type": "markdown",
   "metadata": {},
   "source": [
    "## Factor de magnitud del error\n",
    "El factor de magnitud del error se define como\n",
    "$$\\frac{E_f}{E_b}.$$\n",
    "\n",
    "Note que encontrar el factor de magnitud del error es equivalente a encontrar el cociente entre el error hacia adelante y el error hacia atrás. Y este cálculo no siempre es fácil de hacer, puesto que  no siempre tenemos el valor de $x$. \n",
    "\n",
    "## Ejercicio\n",
    "Encuentre el factor de magnitud del error, de los sistemas anteriores  usando el método de LU con y sin pivote.\n",
    "\n"
   ]
  },
  {
   "cell_type": "markdown",
   "metadata": {},
   "source": [
    "# Número de Condición de una matriz \n",
    "\n",
    "El número de condición de una matriz es una medida de la sensibilidad de la solución de un sistema de ecuaciones lineales $Ax = b$. de esta forma podemos observar que si \n",
    "$$A(x+\\delta x)=b+\\delta b,$$\n",
    "así tenemos que $$A\\delta x =\\delta b$$\n",
    "y por lo tanto\n",
    "$$\\delta x=A^{-1}\\delta b.$$\n",
    "por definición de normas tenemos que \n",
    "$$||\\delta x||\\leq ||A^{-1}||\\cdot||\\delta b||.$$\n",
    "\n",
    "Por otra parte tenemos que \n",
    "$$b=Ax,$$\n",
    "$$||b||\\leq ||A||\\cdot||x||.$$\n",
    "De esta forma medimos el error relativo \n",
    "$$\\frac{||\\delta x||}{||x||}\\leq ||A||\\cdot||A^{-1}||\\cdot\\frac{||\\delta b||}{||b||}.$$\n",
    "\n",
    "De esta cuanta podemos interpretar que el error relativo en la solución es proporcional al error relativo en los datos y al $|||A|||||A^{-1}|||$. Este número se conoce como número de condición\n",
    "\n",
    "\n",
    "$$cond(A) = |\\|A\\|| \\cdot |\\|A^{-1}\\||$$\n",
    "\n",
    "Note que si el número de condición es cercano a 1, entonces a pequeños cambios de los valores de entrada de la variable $x$ va a tener pequeños cambios en la solución. Por otro lado si el número de condición es grande, entonces pequeños cambios en los valores de entrada de la variable $x$ va a tener grandes cambios en la solución.\n",
    "\n",
    "**Una matriz se dice bien condicionada si su número de condición es cercano a 1.**\n",
    "\n",
    "Con el siguiente c+odigo podemos aproximar el número de condición de una matriz.\n",
    "\n",
    "```python\n",
    "\n",
    "import numpy as np\n",
    "import numpy.linalg as la\n",
    "# Crear una matriz de ejemplo\n",
    "A = np.array([[1+1e-4, 1], [1, 1]])\n",
    "\n",
    "# Calcular el número de condición utilizando la norma 2\n",
    "condicion_numero = np.linalg.norm(A, ord=2) * np.linalg.norm(np.linalg.inv(A), ord=2)\n",
    "\n",
    "print(\"Número de Condición de A:\", condicion_numero)\n",
    "\n",
    "```\n",
    "## Ejercicio \n",
    "\n",
    "+ Calcule el número de condición de las matrices de los ejercicios anteriores."
   ]
  },
  {
   "cell_type": "markdown",
   "metadata": {},
   "source": [
    "\n",
    "\n",
    "+ Sea la matriz $A=\\begin{bmatrix} 1+10^{-16} & 1 \\\\ 1 & 1 \\end{bmatrix}$, ¿Cuál es número de condición de $A$?\n",
    "\n",
    "\n",
    "+ Supongamos que queremos resolver este sistema de ecuaciones\n",
    "\n",
    "\n",
    "$$\\begin{bmatrix} 1+10^{-16} & 1 \\\\ 1 & 1 \\end{bmatrix}\\begin{bmatrix} x_1 \\\\ x_2 \\end{bmatrix}=\\begin{bmatrix} 1 \\\\ 2 \\end{bmatrix}$$\n",
    "\n",
    "  + Realice una gráfica para solucionar el sistema.\n",
    "\n",
    "  + ¿Qué características podemos ver? \n",
    "\n",
    "  + Calcule la solución del sistema de ecuaciones usando el método de LU con y sin pivote y encuentre el error hacia adelante.\n",
    "\n",
    "  \n",
    "\n",
    "  + ¿Que tan sensibles es el sistema a pequeños cambios en la matriz $A$?\n",
    "\n",
    "\n"
   ]
  },
  {
   "cell_type": "markdown",
   "metadata": {},
   "source": [
    "## Normas matriciales\n",
    "\n",
    "\n",
    "Las normas matriciales inducidas son una forma de medir la magnitud de una matriz en relación con un espacio vectorial. Son útiles en diversas áreas de las matemáticas y la ciencia, incluyendo el álgebra lineal y la teoría de matrices. En este documento, exploraremos las normas matriciales inducidas y cómo se calculan.\n",
    "\n",
    "\n",
    "\n",
    "\n",
    "**Norma Matricial Inducida por un Vector**\n",
    "** Propiedades\n",
    "\n",
    "+ Si $A$ y $B$ son matrices\n",
    "\n",
    "$$|\\|AB\\||_p\\leq|\\|A|\\|_p\\||B\\||_p$$\n",
    "\n",
    "La norma matricial inducida por una norma vectorial se define como:\n",
    "$$|\\|A\\||_{p} = \\max_{x \\neq 0} \\frac{\\|Ax\\|_{p}}{\\|x\\|_{q}}$$\n",
    "donde $\\|\\cdot\\|_{p}$ y $\\|\\cdot\\|_{q}$ son normas vectoriales en $\\mathbb{R}^{n}$ y $\\mathbb{R}^{m}$, respectivamente. Esta definiciión se puede reescribir como:\n",
    "\n",
    "$$|\\|A\\||_{p} = \\max_{\\|x\\|_{q} = 1} \\|Ax\\|_{p}$$\n",
    "\n"
   ]
  },
  {
   "cell_type": "markdown",
   "metadata": {},
   "source": [
    "Si $A$ es una matriz cuadrada, entonces la norma matricial de la norma $1$ se puede escribir como:\n",
    "$$|\\|A\\||_{1}=max_{1\\leq k\\leq n}\\sum_{j=1}^{n}|A_{j,k}|$$\n",
    "\n",
    "$$|\\|A\\||_{\\infty}=max_{1\\leq j\\leq n}\\sum_{k=1}^{n}|A_{j,k}|$$\n"
   ]
  },
  {
   "cell_type": "markdown",
   "metadata": {},
   "source": [
    "## Ejemplos\n",
    "Veamos algunos ejemplos de cálculo de normas matriciales inducidas en matrices y vectores específicos.\n",
    "\n",
    "**Ejemplo 1**\n",
    "Dada la matriz $$A = \\begin{bmatrix} 2 & -1 \\\\ -5 & 4 \\end{bmatrix}$$ y la norma vectorial \n",
    "$L_{1}$, calculemos la norma matricial inducida por $L_{1}$.\n",
    "\n",
    "$$|\\|A\\||_{1} = \\max\\{7,5\\}=7$$\n",
    "\n",
    "\n",
    "**Norma infinito**\n",
    "\n",
    "$$|\\|A\\||_{\\infty} = \\max\\{3,9\\}=9$$"
   ]
  },
  {
   "cell_type": "markdown",
   "metadata": {},
   "source": [
    "## Normas de Frobenius\n",
    "\n",
    "La norma de Frobenius es una norma matricial  no inducida. La norma de Frobenius de una matriz $A$ se define como:\n",
    "\n",
    "$$|\\|A\\||_{F} = \\sqrt{\\sum_{i=1}^{m} \\sum_{j=1}^{n} |a_{ij}|^{2}}$$"
   ]
  },
  {
   "cell_type": "code",
   "execution_count": null,
   "metadata": {},
   "outputs": [],
   "source": [
    "import numpy as np\n",
    "\n",
    "# Crear una matriz de ejemplo\n",
    "A = np.array([[1, 2, 3],\n",
    "              [4, 5, 6],\n",
    "              [7, 8, 9]])\n",
    "\n",
    "# Calcular la norma de Frobenius (norma F)\n",
    "norm_frobenius = np.linalg.norm(A, ord='fro')\n",
    "print(\"Norma de Frobenius de A:\", norm_frobenius)\n",
    "\n",
    "# Calcular la norma infinito (norma ∞)\n",
    "norm_inf = np.linalg.norm(A, ord=np.inf)\n",
    "print(\"Norma infinito de A:\", norm_inf)\n",
    "\n",
    "# Calcular la norma 1 (norma 1)\n",
    "norm_1 = np.linalg.norm(A, ord=1)\n",
    "print(\"Norma 1 de A:\", norm_1)"
   ]
  },
  {
   "cell_type": "markdown",
   "metadata": {},
   "source": [
    "# Cholesky\n",
    "\n",
    "## Definición \n",
    "Una matriz $A$ es definida positiva si $x^TAx > 0$ para todo $x \\neq 0$.\n",
    "\n",
    "## Propiedades\n",
    "* Una matriz definida positiva es simétrica.\n",
    "* Una matriz definida positiva tiene todos sus valores propios positivos.\n",
    "* Una matriz definida positiva tiene todos sus menores principales positivos.\n",
    "\n",
    "\n",
    "## Ejemplo\n",
    "La matriz $A = \\begin{bmatrix} 1 & 2 \\\\ 2 & 5 \\end{bmatrix}$ es definida positiva.  \n",
    "\n",
    "## Algoritmo\n",
    "El algoritmo de Cholesky es un método para calcular la factorización de Cholesky de una matriz definida positiva."
   ]
  },
  {
   "cell_type": "markdown",
   "metadata": {},
   "source": [
    "Sea $A$ una matriz simetrica definida positiva de orden $n$. Entonces, existe una matriz triangular inferior $G$ con elementos reales positivos en la diagonal tal que $A = GG^T$. Para encontrar $G$, se procede de la siguiente manera:\n",
    "\n",
    "Sea la matriz \n",
    "$$G=\\begin{bmatrix} g_{11} & 0 & \\cdots & 0 \\\\ g_{21} & g_{22} & \\cdots & 0 \\\\ \\vdots & \\vdots & \\ddots & \\vdots \\\\ g_{n1} & g_{n2} & \\cdots & g_{nn} \\end{bmatrix}$$\n",
    "\n",
    "Entonces, $A = GG^T$ implica que\n",
    "\n",
    "$$\\begin{bmatrix} a_{11} & a_{12} & \\cdots & a_{1n} \\\\ a_{21} & a_{22} & \\cdots & a_{2n} \\\\ \\vdots & \\vdots & \\ddots & \\vdots \\\\ a_{n1} & a_{n2} & \\cdots & a_{nn} \\end{bmatrix} = \\begin{bmatrix} g_{11}^2 & g_{11}g_{21} & \\cdots & g_{11}g_{n1} \\\\ g_{11}g_{21} & g_{21}^2 + g_{22}^2 & \\cdots & g_{21}g_{n1} + g_{22}g_{n2} \\\\ \\vdots & \\vdots & \\ddots & \\vdots \\\\ g_{11}g_{n1} & g_{21}g_{n1} + g_{22}g_{n2} & \\cdots & g_{n1}^2 + g_{n2}^2 + \\cdots + g_{nn}^2 \\end{bmatrix}$$\n",
    "\n",
    "\n",
    "de esta forma tenemos que \n",
    "\n",
    "$$g_{11}^2 = a_{11} \\Rightarrow g_{11} = \\sqrt{a_{11}}$$\n",
    "$$g_{11}g_{21} = a_{12} \\Rightarrow g_{21} = \\frac{a_{12}}{g_{11}}$$\n",
    "\n",
    "\n",
    "$$\\vdots$$\n",
    "\n",
    "$$g_{11}g_{n1} = a_{1n} \\Rightarrow g_{n1} = \\frac{a_{1n}}{g_{11}}$$\n",
    "\n",
    "Ahora debemos calcular los elementos de la segunda fila de $G$.\n",
    "\n",
    "$$g_{21}^2 + g_{22}^2 = a_{22} \\Rightarrow g_{22} = \\sqrt{a_{22} - g_{21}^2}$$\n",
    "\n",
    "$$g_{21}g_{n1} + g_{22}g_{n2} = a_{2n} \\Rightarrow g_{n2} = \\frac{a_{2n} - g_{21}g_{n1}}{g_{22}}$$"
   ]
  },
  {
   "cell_type": "markdown",
   "metadata": {},
   "source": [
    "**Ventajas dela algoritmod e Cholesky**\n",
    "\n",
    "+ El algoritmo de Cholesky es una técnica importante en álgebra lineal numérica.\n",
    "+ Se utiliza para factorizar una matriz simétrica definida positiva en el producto de una matriz triangular inferior y su traspuesta.\n",
    "+ Esta factorización tiene aplicaciones en la resolución de sistemas de ecuaciones lineales y la estimación de covarianzas en estadísticas.\n",
    "+ El algoritmo de Cholesky es aproximadamente el doble de eficiente que la eliminación gaussiana para resolver sistemas de ecuaciones lineales.\n",
    "+ También es más estable numéricamente."
   ]
  },
  {
   "cell_type": "markdown",
   "metadata": {},
   "source": [
    "## Algoritmo de Cholesky\n",
    "import numpy as np\n",
    "\n",
    "def cholesky_decomposition(A):\n",
    "    n = len(A)\n",
    "    L = np.zeros_like(A)\n",
    "\n",
    "    for i in range(n):\n",
    "        for j in range(i + 1):\n",
    "            if i == j:\n",
    "                temp = A[i, i] - np.sum(L[i, :i] ** 2)\n",
    "                L[i, i] = np.sqrt(temp) if temp > 0 else 0.0\n",
    "            else:\n",
    "                L[i, j] = (A[i, j] - np.sum(L[i, :j] * L[j, :j])) / L[j, j]\n",
    "\n",
    "    return L\n",
    "\n",
    "A = np.array([[4, 2, 2], [2, 5, 5], [2, 5, 9]])\n",
    "L = cholesky_decomposition(A)\n"
   ]
  },
  {
   "cell_type": "markdown",
   "metadata": {},
   "source": [
    "# Ejercicios\n",
    "\n",
    "1. Implementar el algoritmo de Cholesky en Python.\n",
    "2. Resulva el siguiente sistema de ecuaciones usando Cholesky\n",
    "\n",
    "$$\\begin{bmatrix} 4 & 2 & 2 \\\\ 2 & 5 & 5 \\\\ 2 & 5 & 9 \\end{bmatrix} \\begin{bmatrix} x_1 \\\\ x_2 \\\\ x_3 \\end{bmatrix} = \\begin{bmatrix} 2 \\\\ 3 \\\\ 5 \\end{bmatrix}$$\n",
    "\n",
    "- Halle el numero de condición de la matriz asociado al sistema de ecuaciones anterior.\n",
    "\n",
    "3. Halle la inversa de la matriz $A$ usando Cholesky.\n",
    "\n",
    "4. Sea el sistema \n",
    "\n",
    "$$A=\\begin{bmatrix} 1&1&1&1 \\\\1&1&1&2 \\\\ 1&1&2&3 \\\\1&2&3&4\\end{bmatrix}\\begin{bmatrix} x_1 \\\\ x_2 \\\\ x_3\\\\x_4 \\end{bmatrix} = \\begin{bmatrix}1\\\\ 2 \\\\ 3 \\\\ 4 \\end{bmatrix}$$\n",
    "* Encuentre el número de condición de la matriz $A$.\n",
    "* Encuentre la solución el sistema usando Cholesky y LU, Compare las respuestas"
   ]
  },
  {
   "cell_type": "markdown",
   "metadata": {},
   "source": [
    "## Proyectos\n",
    "\n",
    "+ Ecuación Elastica\n",
    "+ Ecuación de Poisson\n",
    "+ Ecuación de Laplace\n",
    "+ Ecuación del calor"
   ]
  }
 ],
 "metadata": {
  "language_info": {
   "name": "python"
  },
  "orig_nbformat": 4
 },
 "nbformat": 4,
 "nbformat_minor": 2
}
