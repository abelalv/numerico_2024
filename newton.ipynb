{
 "cells": [
  {
   "cell_type": "code",
   "execution_count": 1,
   "metadata": {},
   "outputs": [],
   "source": [
    "def f(x):             \n",
    "\treturn x**2 - 2   # f(x) = x^2 - 2\n",
    "\n",
    "def f_prime(x):\n",
    "\treturn 2*x        # f'(x) = 2x\n",
    "\n",
    "def newtons_method(x0, f, f_prime, tolerance=1e-5, epsilon=1e-10, max_iterations=1000):\n",
    "    \"\"\"Newton's method\n",
    "\n",
    "    Args:\n",
    "      x0:              The initial guess\n",
    "      f:               The function whose root we are trying to find\n",
    "      f_prime:         The derivative of the function\n",
    "      tolerance:       Stop when iterations change by less than this\n",
    "      epsilon:         Do not divide by a number smaller than this\n",
    "      max_iterations:  The maximum number of iterations to compute\n",
    "    \"\"\"\n",
    "    for iteration in range(max_iterations):\n",
    "        y = f(x0)\n",
    "        yprime = f_prime(x0)\n",
    "\n",
    "        if abs(yprime) < epsilon:       # Give up if the denominator is too small\n",
    "           return None,{\n",
    "                'converged': False,\n",
    "                'iteration': iteration,\n",
    "                'value': None\n",
    "            }\n",
    "        x1 = x0 - y / yprime            # Do Newton's computation\n",
    "\n",
    "        if abs(x1 - x0) <= tolerance:   # Stop when the result is within the desired tolerance\n",
    "            return x1, {\n",
    "                'converged': True,\n",
    "                'iteration': iteration,\n",
    "                'value': x1\n",
    "            }                   # x1 is a solution within tolerance and maximum number of iterations\n",
    "\n",
    "        x0 = x1                         # Update x0 to start the process again\n",
    "\n",
    "    return None,{\n",
    "                'converged': False,\n",
    "                'iteration': iteration,\n",
    "                'value': None\n",
    "            }                         # Newton's method did not converge"
   ]
  },
  {
   "cell_type": "code",
   "execution_count": 3,
   "metadata": {},
   "outputs": [
    {
     "data": {
      "text/plain": [
       "(1.4142135623746899,\n",
       " {'converged': True, 'iteration': 3, 'value': 1.4142135623746899})"
      ]
     },
     "execution_count": 3,
     "metadata": {},
     "output_type": "execute_result"
    }
   ],
   "source": [
    "import numpy as np\n",
    "import matplotlib.pyplot as plt\n",
    "newtons_method(1, f, f_prime)"
   ]
  }
 ],
 "metadata": {
  "kernelspec": {
   "display_name": "Python 3",
   "language": "python",
   "name": "python3"
  },
  "language_info": {
   "codemirror_mode": {
    "name": "ipython",
    "version": 3
   },
   "file_extension": ".py",
   "mimetype": "text/x-python",
   "name": "python",
   "nbconvert_exporter": "python",
   "pygments_lexer": "ipython3",
   "version": "3.12.1"
  }
 },
 "nbformat": 4,
 "nbformat_minor": 2
}
